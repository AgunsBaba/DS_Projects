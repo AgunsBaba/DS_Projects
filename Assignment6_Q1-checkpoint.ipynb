{
 "cells": [
  {
   "cell_type": "code",
   "execution_count": 27,
   "metadata": {
    "collapsed": true
   },
   "outputs": [],
   "source": [
    "#import modules\n",
    "import xml.etree.cElementTree as xml\n",
    "import csv"
   ]
  },
  {
   "cell_type": "code",
   "execution_count": 28,
   "metadata": {
    "collapsed": false
   },
   "outputs": [],
   "source": [
    "if __name__ == \"__main__\":\n",
    "    tree = xml.parse(\"C:\\Users\\Tolu\\Downloads\\cricket-xml-1.xml\")\n",
    "    root = tree.getroot()\n",
    "    csv_matches = []\n",
    "    for match in root:\n",
    "        matchid = match.attrib['mid']\n",
    "        runs = {}\n",
    "        t1 = match.attrib['Team1']\n",
    "        t2 = match.attrib['Team2']\n",
    "        runs[t1] = 0\n",
    "        runs[t2] = 0\n",
    "        for ball in match:\n",
    "            runs[ball.attrib['batting']] += int(ball.attrib['runs'])\n",
    "        csv_matches.append([matchid, t1, runs[t1], t2, runs[t2]])"
   ]
  },
  {
   "cell_type": "code",
   "execution_count": 29,
   "metadata": {
    "collapsed": false
   },
   "outputs": [],
   "source": [
    "with open('Q1_xml_to_csv_1.csv', 'w') as csvout:\n",
    "    cric_writer = csv.writer(csvout)\n",
    "    cric_writer.writerow([\"id\", \"team1\", \"t1runs\", \"team2\", \"t2runs\"])\n",
    "    cric_writer.writerows(csv_matches)"
   ]
  },
  {
   "cell_type": "code",
   "execution_count": null,
   "metadata": {
    "collapsed": true
   },
   "outputs": [],
   "source": []
  }
 ],
 "metadata": {
  "kernelspec": {
   "display_name": "Python 2",
   "language": "python",
   "name": "python2"
  },
  "language_info": {
   "codemirror_mode": {
    "name": "ipython",
    "version": 2
   },
   "file_extension": ".py",
   "mimetype": "text/x-python",
   "name": "python",
   "nbconvert_exporter": "python",
   "pygments_lexer": "ipython2",
   "version": "2.7.13"
  }
 },
 "nbformat": 4,
 "nbformat_minor": 2
}
