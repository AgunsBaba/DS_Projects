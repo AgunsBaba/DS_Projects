{
 "cells": [
  {
   "cell_type": "code",
   "execution_count": 174,
   "metadata": {
    "collapsed": true
   },
   "outputs": [],
   "source": [
    "#import modules and set parameters\n",
    "%matplotlib inline\n",
    "import pandas as pd\n",
    "import numpy as np\n",
    "from sklearn import metrics\n",
    "from sklearn.linear_model import LinearRegression\n",
    "from sklearn.neighbors import KNeighborsClassifier\n",
    "from sklearn.tree import DecisionTreeClassifier\n",
    "from sklearn.cluster import KMeans"
   ]
  },
  {
   "cell_type": "code",
   "execution_count": 86,
   "metadata": {
    "collapsed": false
   },
   "outputs": [],
   "source": [
    "#read the training data\n",
    "data = pd.read_csv(r'C:\\Users\\tolagu\\Documents\\lbr-train.csv')"
   ]
  },
  {
   "cell_type": "code",
   "execution_count": 87,
   "metadata": {
    "collapsed": false
   },
   "outputs": [
    {
     "data": {
      "text/html": [
       "<div>\n",
       "<table border=\"1\" class=\"dataframe\">\n",
       "  <thead>\n",
       "    <tr style=\"text-align: right;\">\n",
       "      <th></th>\n",
       "      <th>Unnamed: 0</th>\n",
       "      <th>ID</th>\n",
       "      <th>LOW</th>\n",
       "      <th>AGE</th>\n",
       "      <th>LWT</th>\n",
       "      <th>RACE</th>\n",
       "      <th>SMOKE</th>\n",
       "      <th>PTL</th>\n",
       "      <th>HT</th>\n",
       "      <th>UI</th>\n",
       "      <th>FTV</th>\n",
       "      <th>BWT</th>\n",
       "    </tr>\n",
       "  </thead>\n",
       "  <tbody>\n",
       "    <tr>\n",
       "      <th>0</th>\n",
       "      <td>120</td>\n",
       "      <td>216</td>\n",
       "      <td>0</td>\n",
       "      <td>16</td>\n",
       "      <td>95</td>\n",
       "      <td>3</td>\n",
       "      <td>0</td>\n",
       "      <td>0</td>\n",
       "      <td>0</td>\n",
       "      <td>0</td>\n",
       "      <td>1</td>\n",
       "      <td>3997</td>\n",
       "    </tr>\n",
       "    <tr>\n",
       "      <th>1</th>\n",
       "      <td>156</td>\n",
       "      <td>37</td>\n",
       "      <td>1</td>\n",
       "      <td>17</td>\n",
       "      <td>130</td>\n",
       "      <td>3</td>\n",
       "      <td>1</td>\n",
       "      <td>1</td>\n",
       "      <td>0</td>\n",
       "      <td>1</td>\n",
       "      <td>0</td>\n",
       "      <td>2125</td>\n",
       "    </tr>\n",
       "    <tr>\n",
       "      <th>2</th>\n",
       "      <td>77</td>\n",
       "      <td>169</td>\n",
       "      <td>0</td>\n",
       "      <td>25</td>\n",
       "      <td>140</td>\n",
       "      <td>1</td>\n",
       "      <td>0</td>\n",
       "      <td>0</td>\n",
       "      <td>0</td>\n",
       "      <td>0</td>\n",
       "      <td>1</td>\n",
       "      <td>3416</td>\n",
       "    </tr>\n",
       "    <tr>\n",
       "      <th>3</th>\n",
       "      <td>140</td>\n",
       "      <td>20</td>\n",
       "      <td>1</td>\n",
       "      <td>21</td>\n",
       "      <td>165</td>\n",
       "      <td>1</td>\n",
       "      <td>1</td>\n",
       "      <td>0</td>\n",
       "      <td>1</td>\n",
       "      <td>0</td>\n",
       "      <td>1</td>\n",
       "      <td>1790</td>\n",
       "    </tr>\n",
       "    <tr>\n",
       "      <th>4</th>\n",
       "      <td>124</td>\n",
       "      <td>220</td>\n",
       "      <td>0</td>\n",
       "      <td>22</td>\n",
       "      <td>129</td>\n",
       "      <td>1</td>\n",
       "      <td>0</td>\n",
       "      <td>0</td>\n",
       "      <td>0</td>\n",
       "      <td>0</td>\n",
       "      <td>0</td>\n",
       "      <td>4111</td>\n",
       "    </tr>\n",
       "  </tbody>\n",
       "</table>\n",
       "</div>"
      ],
      "text/plain": [
       "   Unnamed: 0   ID  LOW  AGE  LWT  RACE  SMOKE  PTL  HT  UI  FTV   BWT\n",
       "0         120  216    0   16   95     3      0    0   0   0    1  3997\n",
       "1         156   37    1   17  130     3      1    1   0   1    0  2125\n",
       "2          77  169    0   25  140     1      0    0   0   0    1  3416\n",
       "3         140   20    1   21  165     1      1    0   1   0    1  1790\n",
       "4         124  220    0   22  129     1      0    0   0   0    0  4111"
      ]
     },
     "execution_count": 87,
     "metadata": {},
     "output_type": "execute_result"
    }
   ],
   "source": [
    "#do a quick check of the training data\n",
    "data.head()"
   ]
  },
  {
   "cell_type": "code",
   "execution_count": 88,
   "metadata": {
    "collapsed": false
   },
   "outputs": [
    {
     "data": {
      "text/plain": [
       "(151, 12)"
      ]
     },
     "execution_count": 88,
     "metadata": {},
     "output_type": "execute_result"
    }
   ],
   "source": [
    "#do another quick check of the training data\n",
    "data.shape"
   ]
  },
  {
   "cell_type": "code",
   "execution_count": 89,
   "metadata": {
    "collapsed": false
   },
   "outputs": [
    {
     "data": {
      "text/plain": [
       "Unnamed: 0    0\n",
       "ID            0\n",
       "LOW           0\n",
       "AGE           0\n",
       "LWT           0\n",
       "RACE          0\n",
       "SMOKE         0\n",
       "PTL           0\n",
       "HT            0\n",
       "UI            0\n",
       "FTV           0\n",
       "BWT           0\n",
       "dtype: int64"
      ]
     },
     "execution_count": 89,
     "metadata": {},
     "output_type": "execute_result"
    }
   ],
   "source": [
    "#check for null values in the training data\n",
    "data.isnull().sum()"
   ]
  },
  {
   "cell_type": "code",
   "execution_count": 90,
   "metadata": {
    "collapsed": true
   },
   "outputs": [],
   "source": [
    "#The 'RACE'feature is unordered. Create new column to encode 'White'\n",
    "data['White'] = data.RACE.map({1:1, 2:0, 3:0})"
   ]
  },
  {
   "cell_type": "code",
   "execution_count": 91,
   "metadata": {
    "collapsed": true
   },
   "outputs": [],
   "source": [
    "#The 'RACE'feature is unordered. Create new column to encode 'Black'\n",
    "data['Black']= data.RACE.map({1:0, 2:1, 3:0})"
   ]
  },
  {
   "cell_type": "code",
   "execution_count": 92,
   "metadata": {
    "collapsed": true
   },
   "outputs": [],
   "source": [
    "#The 'RACE'feature is unordered. Create new column to encode 'Other'\n",
    "data['Other']= data.RACE.map({1:0, 2:0, 3:1})"
   ]
  },
  {
   "cell_type": "code",
   "execution_count": 93,
   "metadata": {
    "collapsed": false
   },
   "outputs": [
    {
     "data": {
      "text/html": [
       "<div>\n",
       "<table border=\"1\" class=\"dataframe\">\n",
       "  <thead>\n",
       "    <tr style=\"text-align: right;\">\n",
       "      <th></th>\n",
       "      <th>Unnamed: 0</th>\n",
       "      <th>ID</th>\n",
       "      <th>LOW</th>\n",
       "      <th>AGE</th>\n",
       "      <th>LWT</th>\n",
       "      <th>RACE</th>\n",
       "      <th>SMOKE</th>\n",
       "      <th>PTL</th>\n",
       "      <th>HT</th>\n",
       "      <th>UI</th>\n",
       "      <th>FTV</th>\n",
       "      <th>BWT</th>\n",
       "      <th>White</th>\n",
       "      <th>Black</th>\n",
       "      <th>Other</th>\n",
       "    </tr>\n",
       "  </thead>\n",
       "  <tbody>\n",
       "    <tr>\n",
       "      <th>0</th>\n",
       "      <td>120</td>\n",
       "      <td>216</td>\n",
       "      <td>0</td>\n",
       "      <td>16</td>\n",
       "      <td>95</td>\n",
       "      <td>3</td>\n",
       "      <td>0</td>\n",
       "      <td>0</td>\n",
       "      <td>0</td>\n",
       "      <td>0</td>\n",
       "      <td>1</td>\n",
       "      <td>3997</td>\n",
       "      <td>0</td>\n",
       "      <td>0</td>\n",
       "      <td>1</td>\n",
       "    </tr>\n",
       "    <tr>\n",
       "      <th>1</th>\n",
       "      <td>156</td>\n",
       "      <td>37</td>\n",
       "      <td>1</td>\n",
       "      <td>17</td>\n",
       "      <td>130</td>\n",
       "      <td>3</td>\n",
       "      <td>1</td>\n",
       "      <td>1</td>\n",
       "      <td>0</td>\n",
       "      <td>1</td>\n",
       "      <td>0</td>\n",
       "      <td>2125</td>\n",
       "      <td>0</td>\n",
       "      <td>0</td>\n",
       "      <td>1</td>\n",
       "    </tr>\n",
       "    <tr>\n",
       "      <th>2</th>\n",
       "      <td>77</td>\n",
       "      <td>169</td>\n",
       "      <td>0</td>\n",
       "      <td>25</td>\n",
       "      <td>140</td>\n",
       "      <td>1</td>\n",
       "      <td>0</td>\n",
       "      <td>0</td>\n",
       "      <td>0</td>\n",
       "      <td>0</td>\n",
       "      <td>1</td>\n",
       "      <td>3416</td>\n",
       "      <td>1</td>\n",
       "      <td>0</td>\n",
       "      <td>0</td>\n",
       "    </tr>\n",
       "    <tr>\n",
       "      <th>3</th>\n",
       "      <td>140</td>\n",
       "      <td>20</td>\n",
       "      <td>1</td>\n",
       "      <td>21</td>\n",
       "      <td>165</td>\n",
       "      <td>1</td>\n",
       "      <td>1</td>\n",
       "      <td>0</td>\n",
       "      <td>1</td>\n",
       "      <td>0</td>\n",
       "      <td>1</td>\n",
       "      <td>1790</td>\n",
       "      <td>1</td>\n",
       "      <td>0</td>\n",
       "      <td>0</td>\n",
       "    </tr>\n",
       "    <tr>\n",
       "      <th>4</th>\n",
       "      <td>124</td>\n",
       "      <td>220</td>\n",
       "      <td>0</td>\n",
       "      <td>22</td>\n",
       "      <td>129</td>\n",
       "      <td>1</td>\n",
       "      <td>0</td>\n",
       "      <td>0</td>\n",
       "      <td>0</td>\n",
       "      <td>0</td>\n",
       "      <td>0</td>\n",
       "      <td>4111</td>\n",
       "      <td>1</td>\n",
       "      <td>0</td>\n",
       "      <td>0</td>\n",
       "    </tr>\n",
       "  </tbody>\n",
       "</table>\n",
       "</div>"
      ],
      "text/plain": [
       "   Unnamed: 0   ID  LOW  AGE  LWT  RACE  SMOKE  PTL  HT  UI  FTV   BWT  White  \\\n",
       "0         120  216    0   16   95     3      0    0   0   0    1  3997      0   \n",
       "1         156   37    1   17  130     3      1    1   0   1    0  2125      0   \n",
       "2          77  169    0   25  140     1      0    0   0   0    1  3416      1   \n",
       "3         140   20    1   21  165     1      1    0   1   0    1  1790      1   \n",
       "4         124  220    0   22  129     1      0    0   0   0    0  4111      1   \n",
       "\n",
       "   Black  Other  \n",
       "0      0      1  \n",
       "1      0      1  \n",
       "2      0      0  \n",
       "3      0      0  \n",
       "4      0      0  "
      ]
     },
     "execution_count": 93,
     "metadata": {},
     "output_type": "execute_result"
    }
   ],
   "source": [
    "#check new dataframe for the encoded features\n",
    "data.head()"
   ]
  },
  {
   "cell_type": "code",
   "execution_count": 94,
   "metadata": {
    "collapsed": true
   },
   "outputs": [],
   "source": [
    "#The 'Unnamed' column not useful. Delete column\n",
    "del data['Unnamed: 0']"
   ]
  },
  {
   "cell_type": "code",
   "execution_count": 95,
   "metadata": {
    "collapsed": false
   },
   "outputs": [
    {
     "data": {
      "text/html": [
       "<div>\n",
       "<table border=\"1\" class=\"dataframe\">\n",
       "  <thead>\n",
       "    <tr style=\"text-align: right;\">\n",
       "      <th></th>\n",
       "      <th>ID</th>\n",
       "      <th>LOW</th>\n",
       "      <th>AGE</th>\n",
       "      <th>LWT</th>\n",
       "      <th>RACE</th>\n",
       "      <th>SMOKE</th>\n",
       "      <th>PTL</th>\n",
       "      <th>HT</th>\n",
       "      <th>UI</th>\n",
       "      <th>FTV</th>\n",
       "      <th>BWT</th>\n",
       "      <th>White</th>\n",
       "      <th>Black</th>\n",
       "      <th>Other</th>\n",
       "    </tr>\n",
       "  </thead>\n",
       "  <tbody>\n",
       "    <tr>\n",
       "      <th>0</th>\n",
       "      <td>216</td>\n",
       "      <td>0</td>\n",
       "      <td>16</td>\n",
       "      <td>95</td>\n",
       "      <td>3</td>\n",
       "      <td>0</td>\n",
       "      <td>0</td>\n",
       "      <td>0</td>\n",
       "      <td>0</td>\n",
       "      <td>1</td>\n",
       "      <td>3997</td>\n",
       "      <td>0</td>\n",
       "      <td>0</td>\n",
       "      <td>1</td>\n",
       "    </tr>\n",
       "    <tr>\n",
       "      <th>1</th>\n",
       "      <td>37</td>\n",
       "      <td>1</td>\n",
       "      <td>17</td>\n",
       "      <td>130</td>\n",
       "      <td>3</td>\n",
       "      <td>1</td>\n",
       "      <td>1</td>\n",
       "      <td>0</td>\n",
       "      <td>1</td>\n",
       "      <td>0</td>\n",
       "      <td>2125</td>\n",
       "      <td>0</td>\n",
       "      <td>0</td>\n",
       "      <td>1</td>\n",
       "    </tr>\n",
       "    <tr>\n",
       "      <th>2</th>\n",
       "      <td>169</td>\n",
       "      <td>0</td>\n",
       "      <td>25</td>\n",
       "      <td>140</td>\n",
       "      <td>1</td>\n",
       "      <td>0</td>\n",
       "      <td>0</td>\n",
       "      <td>0</td>\n",
       "      <td>0</td>\n",
       "      <td>1</td>\n",
       "      <td>3416</td>\n",
       "      <td>1</td>\n",
       "      <td>0</td>\n",
       "      <td>0</td>\n",
       "    </tr>\n",
       "    <tr>\n",
       "      <th>3</th>\n",
       "      <td>20</td>\n",
       "      <td>1</td>\n",
       "      <td>21</td>\n",
       "      <td>165</td>\n",
       "      <td>1</td>\n",
       "      <td>1</td>\n",
       "      <td>0</td>\n",
       "      <td>1</td>\n",
       "      <td>0</td>\n",
       "      <td>1</td>\n",
       "      <td>1790</td>\n",
       "      <td>1</td>\n",
       "      <td>0</td>\n",
       "      <td>0</td>\n",
       "    </tr>\n",
       "    <tr>\n",
       "      <th>4</th>\n",
       "      <td>220</td>\n",
       "      <td>0</td>\n",
       "      <td>22</td>\n",
       "      <td>129</td>\n",
       "      <td>1</td>\n",
       "      <td>0</td>\n",
       "      <td>0</td>\n",
       "      <td>0</td>\n",
       "      <td>0</td>\n",
       "      <td>0</td>\n",
       "      <td>4111</td>\n",
       "      <td>1</td>\n",
       "      <td>0</td>\n",
       "      <td>0</td>\n",
       "    </tr>\n",
       "  </tbody>\n",
       "</table>\n",
       "</div>"
      ],
      "text/plain": [
       "    ID  LOW  AGE  LWT  RACE  SMOKE  PTL  HT  UI  FTV   BWT  White  Black  \\\n",
       "0  216    0   16   95     3      0    0   0   0    1  3997      0      0   \n",
       "1   37    1   17  130     3      1    1   0   1    0  2125      0      0   \n",
       "2  169    0   25  140     1      0    0   0   0    1  3416      1      0   \n",
       "3   20    1   21  165     1      1    0   1   0    1  1790      1      0   \n",
       "4  220    0   22  129     1      0    0   0   0    0  4111      1      0   \n",
       "\n",
       "   Other  \n",
       "0      1  \n",
       "1      1  \n",
       "2      0  \n",
       "3      0  \n",
       "4      0  "
      ]
     },
     "execution_count": 95,
     "metadata": {},
     "output_type": "execute_result"
    }
   ],
   "source": [
    "#check that 'Unnamed' column has been deleted\n",
    "data.head()"
   ]
  },
  {
   "cell_type": "code",
   "execution_count": 96,
   "metadata": {
    "collapsed": false
   },
   "outputs": [
    {
     "data": {
      "text/html": [
       "<div>\n",
       "<table border=\"1\" class=\"dataframe\">\n",
       "  <thead>\n",
       "    <tr style=\"text-align: right;\">\n",
       "      <th></th>\n",
       "      <th>ID</th>\n",
       "      <th>LOW</th>\n",
       "      <th>AGE</th>\n",
       "      <th>LWT</th>\n",
       "      <th>RACE</th>\n",
       "      <th>SMOKE</th>\n",
       "      <th>PTL</th>\n",
       "      <th>HT</th>\n",
       "      <th>UI</th>\n",
       "      <th>FTV</th>\n",
       "      <th>BWT</th>\n",
       "      <th>White</th>\n",
       "      <th>Black</th>\n",
       "      <th>Other</th>\n",
       "    </tr>\n",
       "  </thead>\n",
       "  <tbody>\n",
       "    <tr>\n",
       "      <th>count</th>\n",
       "      <td>151.000000</td>\n",
       "      <td>151.000000</td>\n",
       "      <td>151.000000</td>\n",
       "      <td>151.000000</td>\n",
       "      <td>151.000000</td>\n",
       "      <td>151.000000</td>\n",
       "      <td>151.000000</td>\n",
       "      <td>151.000000</td>\n",
       "      <td>151.000000</td>\n",
       "      <td>151.000000</td>\n",
       "      <td>151.000000</td>\n",
       "      <td>151.000000</td>\n",
       "      <td>151.000000</td>\n",
       "      <td>151.000000</td>\n",
       "    </tr>\n",
       "    <tr>\n",
       "      <th>mean</th>\n",
       "      <td>120.741722</td>\n",
       "      <td>0.317881</td>\n",
       "      <td>23.423841</td>\n",
       "      <td>129.172185</td>\n",
       "      <td>1.847682</td>\n",
       "      <td>0.370861</td>\n",
       "      <td>0.192053</td>\n",
       "      <td>0.059603</td>\n",
       "      <td>0.145695</td>\n",
       "      <td>0.847682</td>\n",
       "      <td>2946.132450</td>\n",
       "      <td>0.509934</td>\n",
       "      <td>0.132450</td>\n",
       "      <td>0.357616</td>\n",
       "    </tr>\n",
       "    <tr>\n",
       "      <th>std</th>\n",
       "      <td>63.379120</td>\n",
       "      <td>0.467202</td>\n",
       "      <td>5.454585</td>\n",
       "      <td>29.140067</td>\n",
       "      <td>0.921942</td>\n",
       "      <td>0.484643</td>\n",
       "      <td>0.472091</td>\n",
       "      <td>0.237537</td>\n",
       "      <td>0.353975</td>\n",
       "      <td>1.024684</td>\n",
       "      <td>717.087346</td>\n",
       "      <td>0.501565</td>\n",
       "      <td>0.340108</td>\n",
       "      <td>0.480893</td>\n",
       "    </tr>\n",
       "    <tr>\n",
       "      <th>min</th>\n",
       "      <td>10.000000</td>\n",
       "      <td>0.000000</td>\n",
       "      <td>14.000000</td>\n",
       "      <td>80.000000</td>\n",
       "      <td>1.000000</td>\n",
       "      <td>0.000000</td>\n",
       "      <td>0.000000</td>\n",
       "      <td>0.000000</td>\n",
       "      <td>0.000000</td>\n",
       "      <td>0.000000</td>\n",
       "      <td>1021.000000</td>\n",
       "      <td>0.000000</td>\n",
       "      <td>0.000000</td>\n",
       "      <td>0.000000</td>\n",
       "    </tr>\n",
       "    <tr>\n",
       "      <th>25%</th>\n",
       "      <td>67.500000</td>\n",
       "      <td>0.000000</td>\n",
       "      <td>19.000000</td>\n",
       "      <td>110.000000</td>\n",
       "      <td>1.000000</td>\n",
       "      <td>0.000000</td>\n",
       "      <td>0.000000</td>\n",
       "      <td>0.000000</td>\n",
       "      <td>0.000000</td>\n",
       "      <td>0.000000</td>\n",
       "      <td>2412.000000</td>\n",
       "      <td>0.000000</td>\n",
       "      <td>0.000000</td>\n",
       "      <td>0.000000</td>\n",
       "    </tr>\n",
       "    <tr>\n",
       "      <th>50%</th>\n",
       "      <td>116.000000</td>\n",
       "      <td>0.000000</td>\n",
       "      <td>23.000000</td>\n",
       "      <td>120.000000</td>\n",
       "      <td>1.000000</td>\n",
       "      <td>0.000000</td>\n",
       "      <td>0.000000</td>\n",
       "      <td>0.000000</td>\n",
       "      <td>0.000000</td>\n",
       "      <td>1.000000</td>\n",
       "      <td>2920.000000</td>\n",
       "      <td>1.000000</td>\n",
       "      <td>0.000000</td>\n",
       "      <td>0.000000</td>\n",
       "    </tr>\n",
       "    <tr>\n",
       "      <th>75%</th>\n",
       "      <td>178.000000</td>\n",
       "      <td>1.000000</td>\n",
       "      <td>26.500000</td>\n",
       "      <td>140.000000</td>\n",
       "      <td>3.000000</td>\n",
       "      <td>1.000000</td>\n",
       "      <td>0.000000</td>\n",
       "      <td>0.000000</td>\n",
       "      <td>0.000000</td>\n",
       "      <td>1.000000</td>\n",
       "      <td>3515.500000</td>\n",
       "      <td>1.000000</td>\n",
       "      <td>0.000000</td>\n",
       "      <td>1.000000</td>\n",
       "    </tr>\n",
       "    <tr>\n",
       "      <th>max</th>\n",
       "      <td>226.000000</td>\n",
       "      <td>1.000000</td>\n",
       "      <td>45.000000</td>\n",
       "      <td>241.000000</td>\n",
       "      <td>3.000000</td>\n",
       "      <td>1.000000</td>\n",
       "      <td>2.000000</td>\n",
       "      <td>1.000000</td>\n",
       "      <td>1.000000</td>\n",
       "      <td>4.000000</td>\n",
       "      <td>4990.000000</td>\n",
       "      <td>1.000000</td>\n",
       "      <td>1.000000</td>\n",
       "      <td>1.000000</td>\n",
       "    </tr>\n",
       "  </tbody>\n",
       "</table>\n",
       "</div>"
      ],
      "text/plain": [
       "               ID         LOW         AGE         LWT        RACE       SMOKE  \\\n",
       "count  151.000000  151.000000  151.000000  151.000000  151.000000  151.000000   \n",
       "mean   120.741722    0.317881   23.423841  129.172185    1.847682    0.370861   \n",
       "std     63.379120    0.467202    5.454585   29.140067    0.921942    0.484643   \n",
       "min     10.000000    0.000000   14.000000   80.000000    1.000000    0.000000   \n",
       "25%     67.500000    0.000000   19.000000  110.000000    1.000000    0.000000   \n",
       "50%    116.000000    0.000000   23.000000  120.000000    1.000000    0.000000   \n",
       "75%    178.000000    1.000000   26.500000  140.000000    3.000000    1.000000   \n",
       "max    226.000000    1.000000   45.000000  241.000000    3.000000    1.000000   \n",
       "\n",
       "              PTL          HT          UI         FTV          BWT  \\\n",
       "count  151.000000  151.000000  151.000000  151.000000   151.000000   \n",
       "mean     0.192053    0.059603    0.145695    0.847682  2946.132450   \n",
       "std      0.472091    0.237537    0.353975    1.024684   717.087346   \n",
       "min      0.000000    0.000000    0.000000    0.000000  1021.000000   \n",
       "25%      0.000000    0.000000    0.000000    0.000000  2412.000000   \n",
       "50%      0.000000    0.000000    0.000000    1.000000  2920.000000   \n",
       "75%      0.000000    0.000000    0.000000    1.000000  3515.500000   \n",
       "max      2.000000    1.000000    1.000000    4.000000  4990.000000   \n",
       "\n",
       "            White       Black       Other  \n",
       "count  151.000000  151.000000  151.000000  \n",
       "mean     0.509934    0.132450    0.357616  \n",
       "std      0.501565    0.340108    0.480893  \n",
       "min      0.000000    0.000000    0.000000  \n",
       "25%      0.000000    0.000000    0.000000  \n",
       "50%      1.000000    0.000000    0.000000  \n",
       "75%      1.000000    0.000000    1.000000  \n",
       "max      1.000000    1.000000    1.000000  "
      ]
     },
     "execution_count": 96,
     "metadata": {},
     "output_type": "execute_result"
    }
   ],
   "source": [
    "#Generate summary stats for the training data\n",
    "data.describe()"
   ]
  },
  {
   "cell_type": "code",
   "execution_count": 97,
   "metadata": {
    "collapsed": false
   },
   "outputs": [],
   "source": [
    "#I'll be fitting the Linear Regression model first. \n",
    "#For Linear Regression, I will try and predict 'BWT' as the target feature \n",
    "#since 'BWT' is a continous feature\n",
    "#First, create the target variable Y and features X\n",
    "feature_cols = ['AGE', 'LWT', 'SMOKE', 'PTL', 'HT', 'UI', 'FTV', 'White', 'Black', 'Other']\n",
    "X = data[feature_cols]\n",
    "Y = data['BWT']"
   ]
  },
  {
   "cell_type": "code",
   "execution_count": 98,
   "metadata": {
    "collapsed": false
   },
   "outputs": [
    {
     "data": {
      "text/plain": [
       "LinearRegression(copy_X=True, fit_intercept=True, n_jobs=1, normalize=False)"
      ]
     },
     "execution_count": 98,
     "metadata": {},
     "output_type": "execute_result"
    }
   ],
   "source": [
    "#create a variable for the Linear Regression model and fit the model\n",
    "linreg = LinearRegression()\n",
    "linreg.fit(X,Y)"
   ]
  },
  {
   "cell_type": "code",
   "execution_count": 99,
   "metadata": {
    "collapsed": false
   },
   "outputs": [
    {
     "name": "stdout",
     "output_type": "stream",
     "text": [
      "2439.37677394\n",
      "[  -1.97093149    5.58547823 -282.77279277 -103.87223949 -625.53761402\n",
      " -608.10756364  -11.11181041  251.01731928 -236.80084241  -14.21647687]\n"
     ]
    }
   ],
   "source": [
    "#print the coefficients\n",
    "print linreg.intercept_\n",
    "print linreg.coef_"
   ]
  },
  {
   "cell_type": "code",
   "execution_count": 100,
   "metadata": {
    "collapsed": false
   },
   "outputs": [
    {
     "data": {
      "text/plain": [
       "[('AGE', -1.9709314887938811),\n",
       " ('LWT', 5.5854782273527999),\n",
       " ('SMOKE', -282.77279277399873),\n",
       " ('PTL', -103.87223948901413),\n",
       " ('HT', -625.53761401989163),\n",
       " ('UI', -608.10756363765063),\n",
       " ('FTV', -11.11181040887702),\n",
       " ('White', 251.01731927529019),\n",
       " ('Black', -236.80084240855859),\n",
       " ('Other', -14.216476866731938)]"
      ]
     },
     "execution_count": 100,
     "metadata": {},
     "output_type": "execute_result"
    }
   ],
   "source": [
    "#pair feature names with the coefficients\n",
    "zip(feature_cols, linreg.coef_)"
   ]
  },
  {
   "cell_type": "code",
   "execution_count": 101,
   "metadata": {
    "collapsed": true
   },
   "outputs": [],
   "source": [
    "#import test data set\n",
    "data_test = pd.read_csv(r'C:\\Users\\tolagu\\Documents\\lbr-test.csv')"
   ]
  },
  {
   "cell_type": "code",
   "execution_count": 102,
   "metadata": {
    "collapsed": false
   },
   "outputs": [
    {
     "data": {
      "text/html": [
       "<div>\n",
       "<table border=\"1\" class=\"dataframe\">\n",
       "  <thead>\n",
       "    <tr style=\"text-align: right;\">\n",
       "      <th></th>\n",
       "      <th>Unnamed: 0</th>\n",
       "      <th>ID</th>\n",
       "      <th>LOW</th>\n",
       "      <th>AGE</th>\n",
       "      <th>LWT</th>\n",
       "      <th>RACE</th>\n",
       "      <th>SMOKE</th>\n",
       "      <th>PTL</th>\n",
       "      <th>HT</th>\n",
       "      <th>UI</th>\n",
       "      <th>FTV</th>\n",
       "      <th>BWT</th>\n",
       "    </tr>\n",
       "  </thead>\n",
       "  <tbody>\n",
       "    <tr>\n",
       "      <th>0</th>\n",
       "      <td>5</td>\n",
       "      <td>89</td>\n",
       "      <td>0</td>\n",
       "      <td>18</td>\n",
       "      <td>107</td>\n",
       "      <td>1</td>\n",
       "      <td>1</td>\n",
       "      <td>0</td>\n",
       "      <td>0</td>\n",
       "      <td>1</td>\n",
       "      <td>0</td>\n",
       "      <td>2600</td>\n",
       "    </tr>\n",
       "    <tr>\n",
       "      <th>1</th>\n",
       "      <td>13</td>\n",
       "      <td>98</td>\n",
       "      <td>0</td>\n",
       "      <td>22</td>\n",
       "      <td>95</td>\n",
       "      <td>3</td>\n",
       "      <td>0</td>\n",
       "      <td>0</td>\n",
       "      <td>1</td>\n",
       "      <td>0</td>\n",
       "      <td>0</td>\n",
       "      <td>2750</td>\n",
       "    </tr>\n",
       "    <tr>\n",
       "      <th>2</th>\n",
       "      <td>31</td>\n",
       "      <td>117</td>\n",
       "      <td>0</td>\n",
       "      <td>17</td>\n",
       "      <td>113</td>\n",
       "      <td>2</td>\n",
       "      <td>0</td>\n",
       "      <td>0</td>\n",
       "      <td>0</td>\n",
       "      <td>0</td>\n",
       "      <td>1</td>\n",
       "      <td>2920</td>\n",
       "    </tr>\n",
       "    <tr>\n",
       "      <th>3</th>\n",
       "      <td>37</td>\n",
       "      <td>124</td>\n",
       "      <td>0</td>\n",
       "      <td>19</td>\n",
       "      <td>138</td>\n",
       "      <td>1</td>\n",
       "      <td>1</td>\n",
       "      <td>0</td>\n",
       "      <td>0</td>\n",
       "      <td>0</td>\n",
       "      <td>2</td>\n",
       "      <td>2977</td>\n",
       "    </tr>\n",
       "    <tr>\n",
       "      <th>4</th>\n",
       "      <td>38</td>\n",
       "      <td>125</td>\n",
       "      <td>0</td>\n",
       "      <td>27</td>\n",
       "      <td>124</td>\n",
       "      <td>1</td>\n",
       "      <td>1</td>\n",
       "      <td>0</td>\n",
       "      <td>0</td>\n",
       "      <td>0</td>\n",
       "      <td>0</td>\n",
       "      <td>2992</td>\n",
       "    </tr>\n",
       "  </tbody>\n",
       "</table>\n",
       "</div>"
      ],
      "text/plain": [
       "   Unnamed: 0   ID  LOW  AGE  LWT  RACE  SMOKE  PTL  HT  UI  FTV   BWT\n",
       "0           5   89    0   18  107     1      1    0   0   1    0  2600\n",
       "1          13   98    0   22   95     3      0    0   1   0    0  2750\n",
       "2          31  117    0   17  113     2      0    0   0   0    1  2920\n",
       "3          37  124    0   19  138     1      1    0   0   0    2  2977\n",
       "4          38  125    0   27  124     1      1    0   0   0    0  2992"
      ]
     },
     "execution_count": 102,
     "metadata": {},
     "output_type": "execute_result"
    }
   ],
   "source": [
    "data_test.head()"
   ]
  },
  {
   "cell_type": "code",
   "execution_count": 103,
   "metadata": {
    "collapsed": false
   },
   "outputs": [],
   "source": [
    "#perform necessary transformation on test data\n",
    "data_test['White'] = data.RACE.map({1:1, 2:0, 3:0})\n",
    "data_test['Black']= data.RACE.map({1:0, 2:1, 3:0})\n",
    "data_test['Other']= data.RACE.map({1:0, 2:0, 3:1})"
   ]
  },
  {
   "cell_type": "code",
   "execution_count": 104,
   "metadata": {
    "collapsed": false
   },
   "outputs": [
    {
     "data": {
      "text/html": [
       "<div>\n",
       "<table border=\"1\" class=\"dataframe\">\n",
       "  <thead>\n",
       "    <tr style=\"text-align: right;\">\n",
       "      <th></th>\n",
       "      <th>Unnamed: 0</th>\n",
       "      <th>ID</th>\n",
       "      <th>LOW</th>\n",
       "      <th>AGE</th>\n",
       "      <th>LWT</th>\n",
       "      <th>RACE</th>\n",
       "      <th>SMOKE</th>\n",
       "      <th>PTL</th>\n",
       "      <th>HT</th>\n",
       "      <th>UI</th>\n",
       "      <th>FTV</th>\n",
       "      <th>BWT</th>\n",
       "      <th>White</th>\n",
       "      <th>Black</th>\n",
       "      <th>Other</th>\n",
       "    </tr>\n",
       "  </thead>\n",
       "  <tbody>\n",
       "    <tr>\n",
       "      <th>0</th>\n",
       "      <td>5</td>\n",
       "      <td>89</td>\n",
       "      <td>0</td>\n",
       "      <td>18</td>\n",
       "      <td>107</td>\n",
       "      <td>1</td>\n",
       "      <td>1</td>\n",
       "      <td>0</td>\n",
       "      <td>0</td>\n",
       "      <td>1</td>\n",
       "      <td>0</td>\n",
       "      <td>2600</td>\n",
       "      <td>0</td>\n",
       "      <td>0</td>\n",
       "      <td>1</td>\n",
       "    </tr>\n",
       "    <tr>\n",
       "      <th>1</th>\n",
       "      <td>13</td>\n",
       "      <td>98</td>\n",
       "      <td>0</td>\n",
       "      <td>22</td>\n",
       "      <td>95</td>\n",
       "      <td>3</td>\n",
       "      <td>0</td>\n",
       "      <td>0</td>\n",
       "      <td>1</td>\n",
       "      <td>0</td>\n",
       "      <td>0</td>\n",
       "      <td>2750</td>\n",
       "      <td>0</td>\n",
       "      <td>0</td>\n",
       "      <td>1</td>\n",
       "    </tr>\n",
       "    <tr>\n",
       "      <th>2</th>\n",
       "      <td>31</td>\n",
       "      <td>117</td>\n",
       "      <td>0</td>\n",
       "      <td>17</td>\n",
       "      <td>113</td>\n",
       "      <td>2</td>\n",
       "      <td>0</td>\n",
       "      <td>0</td>\n",
       "      <td>0</td>\n",
       "      <td>0</td>\n",
       "      <td>1</td>\n",
       "      <td>2920</td>\n",
       "      <td>1</td>\n",
       "      <td>0</td>\n",
       "      <td>0</td>\n",
       "    </tr>\n",
       "    <tr>\n",
       "      <th>3</th>\n",
       "      <td>37</td>\n",
       "      <td>124</td>\n",
       "      <td>0</td>\n",
       "      <td>19</td>\n",
       "      <td>138</td>\n",
       "      <td>1</td>\n",
       "      <td>1</td>\n",
       "      <td>0</td>\n",
       "      <td>0</td>\n",
       "      <td>0</td>\n",
       "      <td>2</td>\n",
       "      <td>2977</td>\n",
       "      <td>1</td>\n",
       "      <td>0</td>\n",
       "      <td>0</td>\n",
       "    </tr>\n",
       "    <tr>\n",
       "      <th>4</th>\n",
       "      <td>38</td>\n",
       "      <td>125</td>\n",
       "      <td>0</td>\n",
       "      <td>27</td>\n",
       "      <td>124</td>\n",
       "      <td>1</td>\n",
       "      <td>1</td>\n",
       "      <td>0</td>\n",
       "      <td>0</td>\n",
       "      <td>0</td>\n",
       "      <td>0</td>\n",
       "      <td>2992</td>\n",
       "      <td>1</td>\n",
       "      <td>0</td>\n",
       "      <td>0</td>\n",
       "    </tr>\n",
       "  </tbody>\n",
       "</table>\n",
       "</div>"
      ],
      "text/plain": [
       "   Unnamed: 0   ID  LOW  AGE  LWT  RACE  SMOKE  PTL  HT  UI  FTV   BWT  White  \\\n",
       "0           5   89    0   18  107     1      1    0   0   1    0  2600      0   \n",
       "1          13   98    0   22   95     3      0    0   1   0    0  2750      0   \n",
       "2          31  117    0   17  113     2      0    0   0   0    1  2920      1   \n",
       "3          37  124    0   19  138     1      1    0   0   0    2  2977      1   \n",
       "4          38  125    0   27  124     1      1    0   0   0    0  2992      1   \n",
       "\n",
       "   Black  Other  \n",
       "0      0      1  \n",
       "1      0      1  \n",
       "2      0      0  \n",
       "3      0      0  \n",
       "4      0      0  "
      ]
     },
     "execution_count": 104,
     "metadata": {},
     "output_type": "execute_result"
    }
   ],
   "source": [
    "#check test data\n",
    "data_test.head()"
   ]
  },
  {
   "cell_type": "code",
   "execution_count": 105,
   "metadata": {
    "collapsed": true
   },
   "outputs": [],
   "source": [
    "#delete the Unnamed column\n",
    "del data_test['Unnamed: 0']"
   ]
  },
  {
   "cell_type": "code",
   "execution_count": 106,
   "metadata": {
    "collapsed": false
   },
   "outputs": [
    {
     "data": {
      "text/html": [
       "<div>\n",
       "<table border=\"1\" class=\"dataframe\">\n",
       "  <thead>\n",
       "    <tr style=\"text-align: right;\">\n",
       "      <th></th>\n",
       "      <th>ID</th>\n",
       "      <th>LOW</th>\n",
       "      <th>AGE</th>\n",
       "      <th>LWT</th>\n",
       "      <th>RACE</th>\n",
       "      <th>SMOKE</th>\n",
       "      <th>PTL</th>\n",
       "      <th>HT</th>\n",
       "      <th>UI</th>\n",
       "      <th>FTV</th>\n",
       "      <th>BWT</th>\n",
       "      <th>White</th>\n",
       "      <th>Black</th>\n",
       "      <th>Other</th>\n",
       "    </tr>\n",
       "  </thead>\n",
       "  <tbody>\n",
       "    <tr>\n",
       "      <th>0</th>\n",
       "      <td>89</td>\n",
       "      <td>0</td>\n",
       "      <td>18</td>\n",
       "      <td>107</td>\n",
       "      <td>1</td>\n",
       "      <td>1</td>\n",
       "      <td>0</td>\n",
       "      <td>0</td>\n",
       "      <td>1</td>\n",
       "      <td>0</td>\n",
       "      <td>2600</td>\n",
       "      <td>0</td>\n",
       "      <td>0</td>\n",
       "      <td>1</td>\n",
       "    </tr>\n",
       "    <tr>\n",
       "      <th>1</th>\n",
       "      <td>98</td>\n",
       "      <td>0</td>\n",
       "      <td>22</td>\n",
       "      <td>95</td>\n",
       "      <td>3</td>\n",
       "      <td>0</td>\n",
       "      <td>0</td>\n",
       "      <td>1</td>\n",
       "      <td>0</td>\n",
       "      <td>0</td>\n",
       "      <td>2750</td>\n",
       "      <td>0</td>\n",
       "      <td>0</td>\n",
       "      <td>1</td>\n",
       "    </tr>\n",
       "    <tr>\n",
       "      <th>2</th>\n",
       "      <td>117</td>\n",
       "      <td>0</td>\n",
       "      <td>17</td>\n",
       "      <td>113</td>\n",
       "      <td>2</td>\n",
       "      <td>0</td>\n",
       "      <td>0</td>\n",
       "      <td>0</td>\n",
       "      <td>0</td>\n",
       "      <td>1</td>\n",
       "      <td>2920</td>\n",
       "      <td>1</td>\n",
       "      <td>0</td>\n",
       "      <td>0</td>\n",
       "    </tr>\n",
       "    <tr>\n",
       "      <th>3</th>\n",
       "      <td>124</td>\n",
       "      <td>0</td>\n",
       "      <td>19</td>\n",
       "      <td>138</td>\n",
       "      <td>1</td>\n",
       "      <td>1</td>\n",
       "      <td>0</td>\n",
       "      <td>0</td>\n",
       "      <td>0</td>\n",
       "      <td>2</td>\n",
       "      <td>2977</td>\n",
       "      <td>1</td>\n",
       "      <td>0</td>\n",
       "      <td>0</td>\n",
       "    </tr>\n",
       "    <tr>\n",
       "      <th>4</th>\n",
       "      <td>125</td>\n",
       "      <td>0</td>\n",
       "      <td>27</td>\n",
       "      <td>124</td>\n",
       "      <td>1</td>\n",
       "      <td>1</td>\n",
       "      <td>0</td>\n",
       "      <td>0</td>\n",
       "      <td>0</td>\n",
       "      <td>0</td>\n",
       "      <td>2992</td>\n",
       "      <td>1</td>\n",
       "      <td>0</td>\n",
       "      <td>0</td>\n",
       "    </tr>\n",
       "  </tbody>\n",
       "</table>\n",
       "</div>"
      ],
      "text/plain": [
       "    ID  LOW  AGE  LWT  RACE  SMOKE  PTL  HT  UI  FTV   BWT  White  Black  \\\n",
       "0   89    0   18  107     1      1    0   0   1    0  2600      0      0   \n",
       "1   98    0   22   95     3      0    0   1   0    0  2750      0      0   \n",
       "2  117    0   17  113     2      0    0   0   0    1  2920      1      0   \n",
       "3  124    0   19  138     1      1    0   0   0    2  2977      1      0   \n",
       "4  125    0   27  124     1      1    0   0   0    0  2992      1      0   \n",
       "\n",
       "   Other  \n",
       "0      1  \n",
       "1      1  \n",
       "2      0  \n",
       "3      0  \n",
       "4      0  "
      ]
     },
     "execution_count": 106,
     "metadata": {},
     "output_type": "execute_result"
    }
   ],
   "source": [
    "#check test data\n",
    "data_test.head()"
   ]
  },
  {
   "cell_type": "code",
   "execution_count": 107,
   "metadata": {
    "collapsed": false
   },
   "outputs": [],
   "source": [
    "#set a parameter for values of 'BWT' in the test data\n",
    "true_test = data_test['BWT']"
   ]
  },
  {
   "cell_type": "code",
   "execution_count": 108,
   "metadata": {
    "collapsed": true
   },
   "outputs": [],
   "source": [
    "#set the features\n",
    "test_feature_cols = ['AGE', 'LWT', 'SMOKE', 'PTL', 'HT', 'UI', 'FTV', 'White', 'Black', 'Other']\n",
    "X_test = data_test[test_feature_cols]"
   ]
  },
  {
   "cell_type": "code",
   "execution_count": 109,
   "metadata": {
    "collapsed": false
   },
   "outputs": [],
   "source": [
    "#use fitted model to make prediction on the test data\n",
    "Y_test_predict = linreg.predict(X_test)"
   ]
  },
  {
   "cell_type": "code",
   "execution_count": 110,
   "metadata": {
    "collapsed": false
   },
   "outputs": [],
   "source": [
    "#derive Mean Squared Error for the Y_test_predict vs true_test\n",
    "mnse = np.sqrt(metrics.mean_squared_error(true_test, Y_test_predict))"
   ]
  },
  {
   "cell_type": "code",
   "execution_count": 111,
   "metadata": {
    "collapsed": false
   },
   "outputs": [
    {
     "data": {
      "text/plain": [
       "810.32704477164373"
      ]
     },
     "execution_count": 111,
     "metadata": {},
     "output_type": "execute_result"
    }
   ],
   "source": [
    "#MNSE\n",
    "mnse"
   ]
  },
  {
   "cell_type": "code",
   "execution_count": 112,
   "metadata": {
    "collapsed": false
   },
   "outputs": [],
   "source": [
    "#Repeat process above for the K-Nearest Neighbor (KNN)\n",
    "#Since KNN is classification, the attribute to predict is LOW\n",
    "#define X and Y for knn on the training dataset\n",
    "feature_k = ['AGE', 'LWT', 'SMOKE', 'PTL', 'HT', 'UI', 'FTV', 'White', 'Black', 'Other']\n",
    "X_k = data[feature_k]\n",
    "Y_k = data['LOW']"
   ]
  },
  {
   "cell_type": "code",
   "execution_count": 113,
   "metadata": {
    "collapsed": false
   },
   "outputs": [
    {
     "data": {
      "text/plain": [
       "KNeighborsClassifier(algorithm='auto', leaf_size=30, metric='minkowski',\n",
       "           metric_params=None, n_jobs=1, n_neighbors=5, p=2,\n",
       "           weights='uniform')"
      ]
     },
     "execution_count": 113,
     "metadata": {},
     "output_type": "execute_result"
    }
   ],
   "source": [
    "#write the knn model into a variable and use it to train the training data, where number of neighbors (k) = 5\n",
    "knn = KNeighborsClassifier(n_neighbors=5)\n",
    "knn.fit(X_k, Y_k)"
   ]
  },
  {
   "cell_type": "code",
   "execution_count": 114,
   "metadata": {
    "collapsed": true
   },
   "outputs": [],
   "source": [
    "#format test data\n",
    "#set a parameter for values of 'LOW' in the test data\n",
    "true_test_k = data_test['LOW']"
   ]
  },
  {
   "cell_type": "code",
   "execution_count": 126,
   "metadata": {
    "collapsed": true
   },
   "outputs": [],
   "source": [
    "#set the features in the test data\n",
    "test_feature_cols_k = ['AGE', 'LWT', 'SMOKE', 'PTL', 'HT', 'UI', 'FTV', 'White', 'Black', 'Other']\n",
    "X_test_k = data_test[test_feature_cols_k]"
   ]
  },
  {
   "cell_type": "code",
   "execution_count": 127,
   "metadata": {
    "collapsed": false
   },
   "outputs": [],
   "source": [
    "#make predictions on the test model using trained model\n",
    "k_predict = knn.predict(X_test_k)"
   ]
  },
  {
   "cell_type": "code",
   "execution_count": 128,
   "metadata": {
    "collapsed": false
   },
   "outputs": [
    {
     "data": {
      "text/plain": [
       "array([1, 1, 0, 0, 0, 0, 0, 0, 0, 1, 0, 1, 1, 0, 0, 0, 0, 0, 0, 0, 0, 1, 0,\n",
       "       0, 0, 1, 0, 0, 0, 0, 0, 0, 0, 0, 0, 0, 1, 0], dtype=int64)"
      ]
     },
     "execution_count": 128,
     "metadata": {},
     "output_type": "execute_result"
    }
   ],
   "source": [
    "k_predict"
   ]
  },
  {
   "cell_type": "code",
   "execution_count": 129,
   "metadata": {
    "collapsed": false
   },
   "outputs": [
    {
     "name": "stdout",
     "output_type": "stream",
     "text": [
      "55.2631578947\n"
     ]
    }
   ],
   "source": [
    "#compute accuracy for the knn model\n",
    "print metrics.accuracy_score(true_test_k,k_predict)*100"
   ]
  },
  {
   "cell_type": "code",
   "execution_count": 167,
   "metadata": {
    "collapsed": true
   },
   "outputs": [],
   "source": [
    "#Repeat process above for the K-Means (KM)\n",
    "#I will use K-Means as an unsupervised learning model to cluster BWT into 5 clusters on the test data set\n",
    "#define X for kmeans on the training dataset\n",
    "feature_km = ['BWT']\n",
    "X_km = data_test[feature_km]"
   ]
  },
  {
   "cell_type": "code",
   "execution_count": 168,
   "metadata": {
    "collapsed": false
   },
   "outputs": [
    {
     "data": {
      "text/plain": [
       "KMeans(algorithm='auto', copy_x=True, init='k-means++', max_iter=300,\n",
       "    n_clusters=5, n_init=10, n_jobs=1, precompute_distances='auto',\n",
       "    random_state=None, tol=0.0001, verbose=0)"
      ]
     },
     "execution_count": 168,
     "metadata": {},
     "output_type": "execute_result"
    }
   ],
   "source": [
    "#write the kmeans model into a variable and use it to train the training data, where number of clusters (k) = 5\n",
    "kmeans = KMeans(n_clusters=5)\n",
    "kmeans.fit(X_km)"
   ]
  },
  {
   "cell_type": "code",
   "execution_count": 169,
   "metadata": {
    "collapsed": false
   },
   "outputs": [
    {
     "name": "stdout",
     "output_type": "stream",
     "text": [
      "[[ 1962.25      ]\n",
      " [ 3502.09090909]\n",
      " [ 4238.33333333]\n",
      " [ 2935.26666667]\n",
      " [  709.        ]]\n",
      "[3 3 3 3 3 3 3 3 3 3 3 3 3 1 1 1 1 1 1 1 1 1 1 1 2 2 2 4 0 0 0 0 0 0 0 0 3\n",
      " 3]\n"
     ]
    }
   ],
   "source": [
    "centroid = kmeans.cluster_centers_\n",
    "labels = kmeans.labels_\n",
    "print (centroid)\n",
    "print(labels)"
   ]
  },
  {
   "cell_type": "code",
   "execution_count": 141,
   "metadata": {
    "collapsed": true
   },
   "outputs": [],
   "source": [
    "#Decision Tree\n",
    "#Since Decision Tree is a classification model, the attribute to classify is LOW\n",
    "#define X and Y on the training dataset\n",
    "feature_cols_dt = ['AGE', 'LWT', 'SMOKE', 'PTL', 'HT', 'UI', 'FTV', 'White', 'Black', 'Other']\n",
    "X_dt = data_test[feature_cols_dt]\n",
    "Y_dt = data_test['LOW']"
   ]
  },
  {
   "cell_type": "code",
   "execution_count": 142,
   "metadata": {
    "collapsed": false
   },
   "outputs": [
    {
     "data": {
      "text/plain": [
       "DecisionTreeClassifier(class_weight=None, criterion='gini', max_depth=3,\n",
       "            max_features=None, max_leaf_nodes=None,\n",
       "            min_impurity_split=1e-07, min_samples_leaf=1,\n",
       "            min_samples_split=2, min_weight_fraction_leaf=0.0,\n",
       "            presort=False, random_state=1, splitter='best')"
      ]
     },
     "execution_count": 142,
     "metadata": {},
     "output_type": "execute_result"
    }
   ],
   "source": [
    "#write the decision tree model into a variable and use it to train the training data, with the tree depth = 3\n",
    "treeclf = DecisionTreeClassifier(max_depth = 3, random_state=1)\n",
    "treeclf.fit(X_dt, Y_dt)"
   ]
  },
  {
   "cell_type": "code",
   "execution_count": 143,
   "metadata": {
    "collapsed": true
   },
   "outputs": [],
   "source": [
    "#set the features in the test data\n",
    "test_feature_cols_dt = ['LOW']\n",
    "X_test_dt = data_test[test_feature_cols_km]"
   ]
  },
  {
   "cell_type": "code",
   "execution_count": 171,
   "metadata": {
    "collapsed": false
   },
   "outputs": [
    {
     "data": {
      "text/plain": [
       "array([0, 0, 0, 0, 0, 0, 0, 0, 0, 0, 0, 0, 0, 0, 0, 0, 0, 0, 0, 0, 0, 0, 0,\n",
       "       0, 0, 0, 0, 0, 1, 0, 1, 1, 0, 0, 0, 0, 0, 1], dtype=int64)"
      ]
     },
     "execution_count": 171,
     "metadata": {},
     "output_type": "execute_result"
    }
   ],
   "source": [
    "#make predictions on the test data using trained decision tree model and print result\n",
    "dt_X_test = treeclf.predict(X_dt)\n",
    "dt_X_test"
   ]
  },
  {
   "cell_type": "code",
   "execution_count": 153,
   "metadata": {
    "collapsed": false
   },
   "outputs": [
    {
     "data": {
      "text/plain": [
       "0    27\n",
       "1    11\n",
       "Name: LOW, dtype: int64"
      ]
     },
     "execution_count": 153,
     "metadata": {},
     "output_type": "execute_result"
    }
   ],
   "source": [
    "#to determine performanace of the decision tree model, count the number of 1s and 0s in the test data set \n",
    "#and compare with 1s and 0s in the prediction results\n",
    "#count of 1s and 0s in test data set\n",
    "Y_dt.value_counts()"
   ]
  },
  {
   "cell_type": "code",
   "execution_count": 173,
   "metadata": {
    "collapsed": false
   },
   "outputs": [
    {
     "data": {
      "text/plain": [
       "0    34\n",
       "1     4\n",
       "Name: Result, dtype: int64"
      ]
     },
     "execution_count": 173,
     "metadata": {},
     "output_type": "execute_result"
    }
   ],
   "source": [
    "#count the number of 1s and 0s in the predicted data\n",
    "counts_of_dt = dt_X_test\n",
    "df_dt = pd.DataFrame(counts_of_dt)\n",
    "df_dt.columns = ['Result']\n",
    "df_dt_result = df_dt['Result']\n",
    "df_dt_result.value_counts()"
   ]
  },
  {
   "cell_type": "code",
   "execution_count": null,
   "metadata": {
    "collapsed": true
   },
   "outputs": [],
   "source": []
  }
 ],
 "metadata": {
  "kernelspec": {
   "display_name": "Python 2",
   "language": "python",
   "name": "python2"
  },
  "language_info": {
   "codemirror_mode": {
    "name": "ipython",
    "version": 2
   },
   "file_extension": ".py",
   "mimetype": "text/x-python",
   "name": "python",
   "nbconvert_exporter": "python",
   "pygments_lexer": "ipython2",
   "version": "2.7.13"
  }
 },
 "nbformat": 4,
 "nbformat_minor": 2
}
