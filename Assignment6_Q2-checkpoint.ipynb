{
 "cells": [
  {
   "cell_type": "code",
   "execution_count": 14,
   "metadata": {
    "collapsed": true
   },
   "outputs": [],
   "source": [
    "#import modules and packages\n",
    "import xml.etree.cElementTree as xml\n",
    "import json"
   ]
  },
  {
   "cell_type": "code",
   "execution_count": 15,
   "metadata": {
    "collapsed": false
   },
   "outputs": [],
   "source": [
    "if __name__ == \"__main__\":\n",
    "    tree = xml.parse(\"C:\\Users\\Tolu\\Downloads\\cricket-xml-2.xml\")\n",
    "    root = tree.getroot()\n",
    "    json_matches = {}\n",
    "    for match in root:\n",
    "        matchid = match.attrib['mid']\n",
    "        runs = {}\n",
    "        t1 = match.attrib['Team1']\n",
    "        t2 = match.attrib['Team2']\n",
    "        runs[t1] = 0\n",
    "        runs[t2] = 0\n",
    "        for ball in match:\n",
    "            runs[ball.attrib['batting']] += int(ball.attrib['runs'])\n",
    "        json_matches[matchid] = {t1:runs[t1],t2:runs[t2]}"
   ]
  },
  {
   "cell_type": "code",
   "execution_count": 17,
   "metadata": {
    "collapsed": false
   },
   "outputs": [],
   "source": [
    "with open('Q2_xml_to_json.json', 'w') as jsonout:\n",
    "    json.dump(json_matches, jsonout,\n",
    "              sort_keys=True,indent=2,separators=(',',': '))"
   ]
  },
  {
   "cell_type": "code",
   "execution_count": null,
   "metadata": {
    "collapsed": true
   },
   "outputs": [],
   "source": []
  }
 ],
 "metadata": {
  "kernelspec": {
   "display_name": "Python 2",
   "language": "python",
   "name": "python2"
  },
  "language_info": {
   "codemirror_mode": {
    "name": "ipython",
    "version": 2
   },
   "file_extension": ".py",
   "mimetype": "text/x-python",
   "name": "python",
   "nbconvert_exporter": "python",
   "pygments_lexer": "ipython2",
   "version": "2.7.13"
  }
 },
 "nbformat": 4,
 "nbformat_minor": 2
}
