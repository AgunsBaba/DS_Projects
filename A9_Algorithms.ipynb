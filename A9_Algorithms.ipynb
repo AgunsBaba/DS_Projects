{
 "cells": [
  {
   "cell_type": "code",
   "execution_count": 1,
   "metadata": {
    "collapsed": true
   },
   "outputs": [],
   "source": [
    "#import modules\n",
    "import json\n",
    "import pandas as pd\n",
    "import numpy as np\n",
    "import sklearn\n",
    "from sklearn.feature_extraction import text as sk_fe_text\n",
    "from sklearn.model_selection import train_test_split\n",
    "from sklearn.metrics import precision_score, f1_score, recall_score\n",
    "from TwitterAPI import TwitterAPI"
   ]
  },
  {
   "cell_type": "code",
   "execution_count": 2,
   "metadata": {
    "collapsed": true
   },
   "outputs": [],
   "source": [
    "#setting up variables for my 'application'\n",
    "consumerkey = 'f2rs6fF5egLDrd0MMCEC52Iz3'\n",
    "consumersecret = 'AZ1YB11sp8SOTnrUAWPyTqk0u1YighzijhkKToEM0Cf5BWwgCi'"
   ]
  },
  {
   "cell_type": "code",
   "execution_count": 3,
   "metadata": {
    "collapsed": true
   },
   "outputs": [],
   "source": [
    "#setting up the API key\n",
    "api = TwitterAPI('f2rs6fF5egLDrd0MMCEC52Iz3', 'AZ1YB11sp8SOTnrUAWPyTqk0u1YighzijhkKToEM0Cf5BWwgCi', auth_type = 'oAuth2')"
   ]
  },
  {
   "cell_type": "code",
   "execution_count": 4,
   "metadata": {
    "collapsed": true
   },
   "outputs": [],
   "source": [
    "def score(true,pred):\n",
    "    return (precision_score(true,pred),\n",
    "            recall_score(true,pred),\n",
    "            f1_score(true,pred))"
   ]
  },
  {
   "cell_type": "code",
   "execution_count": 5,
   "metadata": {
    "collapsed": true
   },
   "outputs": [],
   "source": [
    "def print_score(s):\n",
    "    print (\"\"\"\n",
    "Precision: {:0.3}\n",
    "Recall:    {:0.3}\n",
    "F-SCore:   {:0.3}\n",
    "\"\"\".format(*s))"
   ]
  },
  {
   "cell_type": "code",
   "execution_count": 6,
   "metadata": {
    "collapsed": true
   },
   "outputs": [],
   "source": [
    "def searchTwitter(query,feed=\"search/tweets\",api=api,n=2500):\n",
    "  r = []\n",
    "  qs = 0\n",
    "  if len(r)==0:\n",
    "    r.extend([t for t in api.request(\"search/tweets\",{'q':query,'count':n})])\n",
    "    qs +=1\n",
    "  while len(r) < n:\n",
    "    print(\"Querrying twitter for {}. {}/{} gathered.\".format(query,len(r),n))\n",
    "    last = r[-1]['id']\n",
    "    r.extend([t for t in api.request(\"search/tweets\",{'q':query,'count':n,\n",
    "                                                        'max_id':last})])\n",
    "    qs += 1\n",
    "    if qs > 180:\n",
    "      time.sleep(840)\n",
    "      qs = 0\n",
    "  return r[:n]"
   ]
  },
  {
   "cell_type": "code",
   "execution_count": 7,
   "metadata": {
    "collapsed": false
   },
   "outputs": [
    {
     "name": "stdout",
     "output_type": "stream",
     "text": [
      "Querrying twitter for #cats. 87/2500 gathered.\n",
      "Querrying twitter for #cats. 164/2500 gathered.\n",
      "Querrying twitter for #cats. 242/2500 gathered.\n",
      "Querrying twitter for #cats. 327/2500 gathered.\n",
      "Querrying twitter for #cats. 425/2500 gathered.\n",
      "Querrying twitter for #cats. 517/2500 gathered.\n",
      "Querrying twitter for #cats. 584/2500 gathered.\n",
      "Querrying twitter for #cats. 628/2500 gathered.\n",
      "Querrying twitter for #cats. 693/2500 gathered.\n",
      "Querrying twitter for #cats. 733/2500 gathered.\n",
      "Querrying twitter for #cats. 809/2500 gathered.\n",
      "Querrying twitter for #cats. 888/2500 gathered.\n",
      "Querrying twitter for #cats. 981/2500 gathered.\n",
      "Querrying twitter for #cats. 1057/2500 gathered.\n",
      "Querrying twitter for #cats. 1147/2500 gathered.\n",
      "Querrying twitter for #cats. 1222/2500 gathered.\n",
      "Querrying twitter for #cats. 1300/2500 gathered.\n",
      "Querrying twitter for #cats. 1368/2500 gathered.\n",
      "Querrying twitter for #cats. 1441/2500 gathered.\n",
      "Querrying twitter for #cats. 1531/2500 gathered.\n",
      "Querrying twitter for #cats. 1611/2500 gathered.\n",
      "Querrying twitter for #cats. 1686/2500 gathered.\n",
      "Querrying twitter for #cats. 1752/2500 gathered.\n",
      "Querrying twitter for #cats. 1804/2500 gathered.\n",
      "Querrying twitter for #cats. 1883/2500 gathered.\n",
      "Querrying twitter for #cats. 1937/2500 gathered.\n",
      "Querrying twitter for #cats. 2014/2500 gathered.\n",
      "Querrying twitter for #cats. 2100/2500 gathered.\n",
      "Querrying twitter for #cats. 2155/2500 gathered.\n",
      "Querrying twitter for #cats. 2226/2500 gathered.\n",
      "Querrying twitter for #cats. 2287/2500 gathered.\n",
      "Querrying twitter for #cats. 2367/2500 gathered.\n",
      "Querrying twitter for #cats. 2449/2500 gathered.\n",
      "Querrying twitter for #dogs. 67/2500 gathered.\n",
      "Querrying twitter for #dogs. 149/2500 gathered.\n",
      "Querrying twitter for #dogs. 236/2500 gathered.\n",
      "Querrying twitter for #dogs. 327/2500 gathered.\n",
      "Querrying twitter for #dogs. 423/2500 gathered.\n",
      "Querrying twitter for #dogs. 495/2500 gathered.\n",
      "Querrying twitter for #dogs. 570/2500 gathered.\n",
      "Querrying twitter for #dogs. 631/2500 gathered.\n",
      "Querrying twitter for #dogs. 689/2500 gathered.\n",
      "Querrying twitter for #dogs. 759/2500 gathered.\n",
      "Querrying twitter for #dogs. 823/2500 gathered.\n",
      "Querrying twitter for #dogs. 889/2500 gathered.\n",
      "Querrying twitter for #dogs. 966/2500 gathered.\n",
      "Querrying twitter for #dogs. 1052/2500 gathered.\n",
      "Querrying twitter for #dogs. 1152/2500 gathered.\n",
      "Querrying twitter for #dogs. 1234/2500 gathered.\n",
      "Querrying twitter for #dogs. 1294/2500 gathered.\n",
      "Querrying twitter for #dogs. 1365/2500 gathered.\n",
      "Querrying twitter for #dogs. 1434/2500 gathered.\n",
      "Querrying twitter for #dogs. 1512/2500 gathered.\n",
      "Querrying twitter for #dogs. 1573/2500 gathered.\n",
      "Querrying twitter for #dogs. 1632/2500 gathered.\n",
      "Querrying twitter for #dogs. 1698/2500 gathered.\n",
      "Querrying twitter for #dogs. 1752/2500 gathered.\n",
      "Querrying twitter for #dogs. 1824/2500 gathered.\n",
      "Querrying twitter for #dogs. 1898/2500 gathered.\n",
      "Querrying twitter for #dogs. 1945/2500 gathered.\n",
      "Querrying twitter for #dogs. 1998/2500 gathered.\n",
      "Querrying twitter for #dogs. 2045/2500 gathered.\n",
      "Querrying twitter for #dogs. 2111/2500 gathered.\n",
      "Querrying twitter for #dogs. 2198/2500 gathered.\n",
      "Querrying twitter for #dogs. 2271/2500 gathered.\n",
      "Querrying twitter for #dogs. 2346/2500 gathered.\n",
      "Querrying twitter for #dogs. 2396/2500 gathered.\n",
      "Querrying twitter for #dogs. 2458/2500 gathered.\n"
     ]
    }
   ],
   "source": [
    "#Get JSON from Twitter\n",
    "cats = searchTwitter('#cats')\n",
    "dogs = searchTwitter('#dogs')"
   ]
  },
  {
   "cell_type": "code",
   "execution_count": 8,
   "metadata": {
    "collapsed": true
   },
   "outputs": [],
   "source": [
    "#convert the json returned by Twitter into a dataframe\n",
    "cats_d = pd.read_json(json.dumps(cats))\n",
    "dogs_d = pd.read_json(json.dumps(dogs))"
   ]
  },
  {
   "cell_type": "code",
   "execution_count": 9,
   "metadata": {
    "collapsed": true
   },
   "outputs": [],
   "source": [
    "#Get text only and replace  hashtags with blanks\n",
    "cats_text = [x.replace(\"#cats\", \"\") for x in cats_d['text']]\n",
    "dogs_text = [x.replace(\"#dogs\", \"\") for x in dogs_d['text']]"
   ]
  },
  {
   "cell_type": "code",
   "execution_count": 10,
   "metadata": {
    "collapsed": false
   },
   "outputs": [
    {
     "data": {
      "text/plain": [
       "-1      2315\n",
       " 31       29\n",
       " 80       19\n",
       " 14       14\n",
       " 71       14\n",
       " 106      12\n",
       " 70       12\n",
       " 85        6\n",
       " 51        5\n",
       " 20        5\n",
       " 117       5\n",
       " 15        3\n",
       " 128       3\n",
       " 69        3\n",
       " 118       3\n",
       " 61        3\n",
       " 53        2\n",
       " 23        2\n",
       " 25        2\n",
       " 124       2\n",
       " 39        2\n",
       " 100       2\n",
       " 67        2\n",
       " 58        2\n",
       " 105       2\n",
       " 84        1\n",
       " 76        1\n",
       " 86        1\n",
       " 66        1\n",
       " 90        1\n",
       " 56        1\n",
       " 42        1\n",
       " 96        1\n",
       " 40        1\n",
       " 98        1\n",
       " 30        1\n",
       " 129       1\n",
       " 17        1\n",
       " 108       1\n",
       " 126       1\n",
       " 109       1\n",
       " 103       1\n",
       " 99        1\n",
       " 97        1\n",
       " 89        1\n",
       " 87        1\n",
       " 81        1\n",
       " 79        1\n",
       " 73        1\n",
       " 63        1\n",
       " 59        1\n",
       " 57        1\n",
       " 37        1\n",
       " 121       1\n",
       " 130       1\n",
       " 0         1\n",
       "dtype: int64"
      ]
     },
     "execution_count": 10,
     "metadata": {},
     "output_type": "execute_result"
    }
   ],
   "source": [
    "#Find the number of times #dogs appear in the cats data\n",
    "blob = [x.find(\"#dogs\") for x in cats_text]\n",
    "type(blob)\n",
    "df1 = pd.DataFrame(blob)\n",
    "df1.stack().value_counts()"
   ]
  },
  {
   "cell_type": "code",
   "execution_count": 11,
   "metadata": {
    "collapsed": true
   },
   "outputs": [],
   "source": [
    "#Create features and return sparse metrics \n",
    "vectorizer = sk_fe_text.CountVectorizer(cats_text+dogs_text)\n",
    "vectorizer.fit(cats_text+dogs_text)\n",
    "cats_tdm = vectorizer.transform(cats_text).toarray()\n",
    "dogs_tdm = vectorizer.transform(dogs_text).toarray()"
   ]
  },
  {
   "cell_type": "code",
   "execution_count": 13,
   "metadata": {
    "collapsed": true
   },
   "outputs": [],
   "source": [
    "#Create visible matrices, combine and add the number of times #dogs appear in cats_text to the length of dog_text and subtract\n",
    "#the same number from the length of cats_text\n",
    "zeros = np.zeros((len(cats_text) - 185, 1))\n",
    "ones = np.ones((len(dogs_text) + 185, 1))\n",
    "catsdogs = np.concatenate((cats_tdm,dogs_tdm),axis=0)\n",
    "y = np.ravel(np.concatenate((zeros,ones),axis=0))"
   ]
  },
  {
   "cell_type": "code",
   "execution_count": 14,
   "metadata": {
    "collapsed": true
   },
   "outputs": [],
   "source": [
    "#Create train/test split for modeling\n",
    "trainX,testX,trainY,testY = train_test_split(catsdogs,y,test_size=.20)"
   ]
  },
  {
   "cell_type": "code",
   "execution_count": 15,
   "metadata": {
    "collapsed": false
   },
   "outputs": [
    {
     "data": {
      "text/plain": [
       "GaussianNB(priors=None)"
      ]
     },
     "execution_count": 15,
     "metadata": {},
     "output_type": "execute_result"
    }
   ],
   "source": [
    "#Naive Bayes\n",
    "from sklearn.naive_bayes import GaussianNB\n",
    "nb = GaussianNB()\n",
    "nb.fit(trainX,trainY)"
   ]
  },
  {
   "cell_type": "code",
   "execution_count": 16,
   "metadata": {
    "collapsed": false
   },
   "outputs": [
    {
     "name": "stdout",
     "output_type": "stream",
     "text": [
      "\n",
      "\n",
      "Naive Bayes Performance\n",
      "\n",
      "Precision: 0.881\n",
      "Recall:    0.775\n",
      "F-SCore:   0.824\n",
      "\n"
     ]
    }
   ],
   "source": [
    "#Naive Bayes cont'd\n",
    "print(\"\\n\\nNaive Bayes Performance\")\n",
    "s = score(testY,nb.predict(testX))\n",
    "print_score(s)"
   ]
  },
  {
   "cell_type": "code",
   "execution_count": 17,
   "metadata": {
    "collapsed": false
   },
   "outputs": [
    {
     "data": {
      "text/plain": [
       "SVC(C=1.0, cache_size=200, class_weight=None, coef0=0.0,\n",
       "  decision_function_shape=None, degree=3, gamma='auto', kernel='rbf',\n",
       "  max_iter=-1, probability=False, random_state=None, shrinking=True,\n",
       "  tol=0.001, verbose=False)"
      ]
     },
     "execution_count": 17,
     "metadata": {},
     "output_type": "execute_result"
    }
   ],
   "source": [
    "#SVM\n",
    "from sklearn.svm import SVC\n",
    "svm = SVC()\n",
    "svm.fit(trainX,trainY)"
   ]
  },
  {
   "cell_type": "code",
   "execution_count": 19,
   "metadata": {
    "collapsed": false
   },
   "outputs": [
    {
     "name": "stdout",
     "output_type": "stream",
     "text": [
      "\n",
      "\n",
      "SVM performance\n",
      "\n",
      "Precision: 0.582\n",
      "Recall:    0.988\n",
      "F-SCore:   0.732\n",
      "\n"
     ]
    }
   ],
   "source": [
    "#SVM Cont'd\n",
    "print(\"\\n\\nSVM performance\")\n",
    "s = score(testY,svm.predict(testX))\n",
    "print_score(s)"
   ]
  },
  {
   "cell_type": "code",
   "execution_count": 20,
   "metadata": {
    "collapsed": false
   },
   "outputs": [
    {
     "data": {
      "text/plain": [
       "MLPClassifier(activation='relu', alpha=0.0001, batch_size='auto', beta_1=0.9,\n",
       "       beta_2=0.999, early_stopping=False, epsilon=1e-08,\n",
       "       hidden_layer_sizes=(100,), learning_rate='constant',\n",
       "       learning_rate_init=0.001, max_iter=200, momentum=0.9,\n",
       "       nesterovs_momentum=True, power_t=0.5, random_state=None,\n",
       "       shuffle=True, solver='adam', tol=0.0001, validation_fraction=0.1,\n",
       "       verbose=False, warm_start=False)"
      ]
     },
     "execution_count": 20,
     "metadata": {},
     "output_type": "execute_result"
    }
   ],
   "source": [
    "#Neural Network\n",
    "from sklearn.neural_network import MLPClassifier\n",
    "nn = MLPClassifier()\n",
    "nn.fit(trainX,trainY)"
   ]
  },
  {
   "cell_type": "code",
   "execution_count": 21,
   "metadata": {
    "collapsed": false
   },
   "outputs": [
    {
     "name": "stdout",
     "output_type": "stream",
     "text": [
      "\n",
      "\n",
      "Neural Network Performance\n",
      "\n",
      "Precision: 0.885\n",
      "Recall:    0.878\n",
      "F-SCore:   0.881\n",
      "\n"
     ]
    }
   ],
   "source": [
    "#Neural Network cont'd\n",
    "print(\"\\n\\nNeural Network Performance\")\n",
    "s = score(testY,nn.predict(testX))\n",
    "print_score(s)"
   ]
  },
  {
   "cell_type": "code",
   "execution_count": null,
   "metadata": {
    "collapsed": true
   },
   "outputs": [],
   "source": []
  }
 ],
 "metadata": {
  "kernelspec": {
   "display_name": "Python 2",
   "language": "python",
   "name": "python2"
  },
  "language_info": {
   "codemirror_mode": {
    "name": "ipython",
    "version": 2
   },
   "file_extension": ".py",
   "mimetype": "text/x-python",
   "name": "python",
   "nbconvert_exporter": "python",
   "pygments_lexer": "ipython2",
   "version": "2.7.13"
  }
 },
 "nbformat": 4,
 "nbformat_minor": 2
}
