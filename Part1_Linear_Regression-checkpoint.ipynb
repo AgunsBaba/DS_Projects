{
 "cells": [
  {
   "cell_type": "code",
   "execution_count": 12,
   "metadata": {
    "collapsed": true
   },
   "outputs": [],
   "source": [
    "#import modules and set parameters\n",
    "%matplotlib inline\n",
    "import pandas as pd\n",
    "import numpy as np\n",
    "from sklearn.linear_model import LinearRegression\n",
    "import statsmodels.formula.api as sm\n",
    "from pandas.stats.api import ols"
   ]
  },
  {
   "cell_type": "code",
   "execution_count": 13,
   "metadata": {
    "collapsed": false
   },
   "outputs": [],
   "source": [
    "#read the data\n",
    "data = pd.read_csv(r'C:\\Users\\tolagu\\Documents\\lr_part1.csv')"
   ]
  },
  {
   "cell_type": "code",
   "execution_count": 14,
   "metadata": {
    "collapsed": false
   },
   "outputs": [
    {
     "data": {
      "text/html": [
       "<div>\n",
       "<table border=\"1\" class=\"dataframe\">\n",
       "  <thead>\n",
       "    <tr style=\"text-align: right;\">\n",
       "      <th></th>\n",
       "      <th>Prediction</th>\n",
       "      <th>Feature 1</th>\n",
       "      <th>Feature 2</th>\n",
       "      <th>Feature 3</th>\n",
       "      <th>Feature 4</th>\n",
       "    </tr>\n",
       "  </thead>\n",
       "  <tbody>\n",
       "    <tr>\n",
       "      <th>0</th>\n",
       "      <td>0.257913</td>\n",
       "      <td>-0.027272</td>\n",
       "      <td>-0.509786</td>\n",
       "      <td>-0.058163</td>\n",
       "      <td>0.268004</td>\n",
       "    </tr>\n",
       "    <tr>\n",
       "      <th>1</th>\n",
       "      <td>0.260358</td>\n",
       "      <td>0.117285</td>\n",
       "      <td>-0.393397</td>\n",
       "      <td>0.206049</td>\n",
       "      <td>-0.023978</td>\n",
       "    </tr>\n",
       "    <tr>\n",
       "      <th>2</th>\n",
       "      <td>0.251809</td>\n",
       "      <td>-0.279256</td>\n",
       "      <td>0.498330</td>\n",
       "      <td>-0.059015</td>\n",
       "      <td>-0.172925</td>\n",
       "    </tr>\n",
       "    <tr>\n",
       "      <th>3</th>\n",
       "      <td>0.254255</td>\n",
       "      <td>0.649347</td>\n",
       "      <td>-0.555444</td>\n",
       "      <td>-0.070890</td>\n",
       "      <td>0.131178</td>\n",
       "    </tr>\n",
       "    <tr>\n",
       "      <th>4</th>\n",
       "      <td>0.256700</td>\n",
       "      <td>-0.496792</td>\n",
       "      <td>0.273162</td>\n",
       "      <td>-0.353771</td>\n",
       "      <td>0.216435</td>\n",
       "    </tr>\n",
       "  </tbody>\n",
       "</table>\n",
       "</div>"
      ],
      "text/plain": [
       "   Prediction  Feature 1  Feature 2  Feature 3  Feature 4\n",
       "0    0.257913  -0.027272  -0.509786  -0.058163   0.268004\n",
       "1    0.260358   0.117285  -0.393397   0.206049  -0.023978\n",
       "2    0.251809  -0.279256   0.498330  -0.059015  -0.172925\n",
       "3    0.254255   0.649347  -0.555444  -0.070890   0.131178\n",
       "4    0.256700  -0.496792   0.273162  -0.353771   0.216435"
      ]
     },
     "execution_count": 14,
     "metadata": {},
     "output_type": "execute_result"
    }
   ],
   "source": [
    "#check data\n",
    "data.head()"
   ]
  },
  {
   "cell_type": "code",
   "execution_count": 15,
   "metadata": {
    "collapsed": true
   },
   "outputs": [],
   "source": [
    "#create the target Y and X variables\n",
    "feature_cols = ['Feature 1', 'Feature 2', 'Feature 3', 'Feature 4']\n",
    "X = data[feature_cols]\n",
    "Y = data['Prediction']"
   ]
  },
  {
   "cell_type": "code",
   "execution_count": 17,
   "metadata": {
    "collapsed": false
   },
   "outputs": [
    {
     "name": "stderr",
     "output_type": "stream",
     "text": [
      "C:\\Users\\tolagu\\AppData\\Local\\Continuum\\Anaconda2\\lib\\site-packages\\IPython\\core\\interactiveshell.py:2881: FutureWarning: The pandas.stats.ols module is deprecated and will be removed in a future version. We refer to external packages like statsmodels, see some examples here: http://www.statsmodels.org/stable/regression.html\n",
      "  exec(code_obj, self.user_global_ns, self.user_ns)\n"
     ]
    }
   ],
   "source": [
    "#fit the linear regression model\n",
    "res = ols(y=Y, x=X)"
   ]
  },
  {
   "cell_type": "code",
   "execution_count": 18,
   "metadata": {
    "collapsed": false
   },
   "outputs": [
    {
     "data": {
      "text/plain": [
       "\n",
       "-------------------------Summary of Regression Analysis-------------------------\n",
       "\n",
       "Formula: Y ~ <Feature 1> + <Feature 2> + <Feature 3> + <Feature 4> + <intercept>\n",
       "\n",
       "Number of Observations:         9127\n",
       "Number of Degrees of Freedom:   5\n",
       "\n",
       "R-squared:         0.5625\n",
       "Adj R-squared:     0.5623\n",
       "\n",
       "Rmse:              0.2328\n",
       "\n",
       "F-stat (4, 9122):  2932.0714, p-value:     0.0000\n",
       "\n",
       "Degrees of Freedom: model 4, resid 9122\n",
       "\n",
       "-----------------------Summary of Estimated Coefficients------------------------\n",
       "      Variable       Coef    Std Err     t-stat    p-value    CI 2.5%   CI 97.5%\n",
       "--------------------------------------------------------------------------------\n",
       "     Feature 1     1.0033     0.0108      92.83     0.0000     0.9821     1.0245\n",
       "     Feature 2     2.0056     0.0194     103.48     0.0000     1.9677     2.0436\n",
       "     Feature 3     3.0105     0.0282     106.57     0.0000     2.9551     3.0658\n",
       "     Feature 4     4.0120     0.0371     108.27     0.0000     3.9393     4.0846\n",
       "     intercept    -0.0035     0.0024      -1.42     0.1562    -0.0082     0.0013\n",
       "---------------------------------End of Summary---------------------------------"
      ]
     },
     "execution_count": 18,
     "metadata": {},
     "output_type": "execute_result"
    }
   ],
   "source": [
    "#print result of regression\n",
    "res"
   ]
  },
  {
   "cell_type": "code",
   "execution_count": null,
   "metadata": {
    "collapsed": true
   },
   "outputs": [],
   "source": []
  }
 ],
 "metadata": {
  "kernelspec": {
   "display_name": "Python 2",
   "language": "python",
   "name": "python2"
  },
  "language_info": {
   "codemirror_mode": {
    "name": "ipython",
    "version": 2
   },
   "file_extension": ".py",
   "mimetype": "text/x-python",
   "name": "python",
   "nbconvert_exporter": "python",
   "pygments_lexer": "ipython2",
   "version": "2.7.13"
  }
 },
 "nbformat": 4,
 "nbformat_minor": 2
}
